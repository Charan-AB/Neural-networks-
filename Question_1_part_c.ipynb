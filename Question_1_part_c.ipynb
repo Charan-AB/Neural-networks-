{
 "cells": [
  {
   "cell_type": "code",
   "execution_count": 2,
   "id": "ba2ed4c3",
   "metadata": {},
   "outputs": [],
   "source": [
    "import tensorflow as tf\n",
    "from tensorflow.keras.models import Sequential\n",
    "from tensorflow.keras.layers import Dense\n"
   ]
  },
  {
   "cell_type": "code",
   "execution_count": 6,
   "id": "ed891e57",
   "metadata": {},
   "outputs": [
    {
     "name": "stdout",
     "output_type": "stream",
     "text": [
      "Model: \"sequential_3\"\n",
      "_________________________________________________________________\n",
      " Layer (type)                Output Shape              Param #   \n",
      "=================================================================\n",
      " hidden_layer_1 (Dense)      (None, 4)                 20        \n",
      "                                                                 \n",
      " hidden_layer_2 (Dense)      (None, 3)                 15        \n",
      "                                                                 \n",
      " output_layer (Dense)        (None, 3)                 12        \n",
      "                                                                 \n",
      "=================================================================\n",
      "Total params: 47 (188.00 Byte)\n",
      "Trainable params: 47 (188.00 Byte)\n",
      "Non-trainable params: 0 (0.00 Byte)\n",
      "_________________________________________________________________\n"
     ]
    }
   ],
   "source": [
    "My_NN_Model = Sequential([\n",
    "   \n",
    "    Dense(4, input_shape=(4,), activation='sigmoid', name='hidden_layer_1'),\n",
    "    \n",
    "    Dense(3, activation='relu', name='hidden_layer_2'),\n",
    "    \n",
    "    Dense(3, activation='softmax', name='output_layer')\n",
    "])\n",
    "\n",
    "My_NN_Model.summary()\n",
    "\n",
    "My_NN_Model.compile(optimizer='adam', loss='categorical_crossentropy', metrics=['accuracy'])"
   ]
  },
  {
   "cell_type": "code",
   "execution_count": null,
   "id": "b2859310",
   "metadata": {},
   "outputs": [],
   "source": []
  }
 ],
 "metadata": {
  "kernelspec": {
   "display_name": "Python 3 (ipykernel)",
   "language": "python",
   "name": "python3"
  },
  "language_info": {
   "codemirror_mode": {
    "name": "ipython",
    "version": 3
   },
   "file_extension": ".py",
   "mimetype": "text/x-python",
   "name": "python",
   "nbconvert_exporter": "python",
   "pygments_lexer": "ipython3",
   "version": "3.11.5"
  }
 },
 "nbformat": 4,
 "nbformat_minor": 5
}
