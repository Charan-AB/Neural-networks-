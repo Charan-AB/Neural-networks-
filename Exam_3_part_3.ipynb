{
 "cells": [
  {
   "cell_type": "code",
   "execution_count": 1,
   "id": "926062cb",
   "metadata": {},
   "outputs": [],
   "source": [
    "import tensorflow as tf\n",
    "from tensorflow import keras\n",
    "from tensorflow.keras import layers\n",
    "from sklearn.model_selection import train_test_split\n",
    "import tensorflow.keras\n",
    "from tensorflow.keras.datasets import mnist\n",
    "from tensorflow.keras.models import Sequential\n",
    "from tensorflow.keras.layers import LSTM, Dense, Dropout, LSTM, Conv1D, MaxPooling1D\n",
    "from tensorflow.keras.optimizers import Adam\n",
    "import matplotlib.pyplot as plt\n",
    "from tensorflow.keras import layers\n",
    "import numpy as np\n",
    "import pandas as pd\n",
    "from tensorflow.keras.layers import Conv2D, MaxPooling2D, Flatten\n",
    "from sklearn.metrics import confusion_matrix\n",
    "import seaborn as sns\n",
    "\n",
    "from tensorflow.keras.regularizers import l1_l2\n",
    "from tensorflow.keras.regularizers import l2\n",
    "from sklearn.model_selection import train_test_split\n",
    "from sklearn.preprocessing import LabelEncoder\n",
    "from tensorflow.keras.callbacks import EarlyStopping"
   ]
  },
  {
   "cell_type": "code",
   "execution_count": 2,
   "id": "6cce48b2",
   "metadata": {},
   "outputs": [],
   "source": [
    "df = pd.read_csv('Final_News_DF_Labeled_ExamDataset.csv')"
   ]
  },
  {
   "cell_type": "code",
   "execution_count": 3,
   "id": "50192b88",
   "metadata": {},
   "outputs": [
    {
     "name": "stdout",
     "output_type": "stream",
     "text": [
      "Looking at the first five rows : \n"
     ]
    },
    {
     "data": {
      "text/html": [
       "<div>\n",
       "<style scoped>\n",
       "    .dataframe tbody tr th:only-of-type {\n",
       "        vertical-align: middle;\n",
       "    }\n",
       "\n",
       "    .dataframe tbody tr th {\n",
       "        vertical-align: top;\n",
       "    }\n",
       "\n",
       "    .dataframe thead th {\n",
       "        text-align: right;\n",
       "    }\n",
       "</style>\n",
       "<table border=\"1\" class=\"dataframe\">\n",
       "  <thead>\n",
       "    <tr style=\"text-align: right;\">\n",
       "      <th></th>\n",
       "      <th>LABEL</th>\n",
       "      <th>according</th>\n",
       "      <th>agency</th>\n",
       "      <th>ahead</th>\n",
       "      <th>alabama</th>\n",
       "      <th>amazon</th>\n",
       "      <th>america</th>\n",
       "      <th>american</th>\n",
       "      <th>announced</th>\n",
       "      <th>appeared</th>\n",
       "      <th>...</th>\n",
       "      <th>wolverines</th>\n",
       "      <th>women</th>\n",
       "      <th>work</th>\n",
       "      <th>working</th>\n",
       "      <th>world</th>\n",
       "      <th>wrote</th>\n",
       "      <th>year</th>\n",
       "      <th>years</th>\n",
       "      <th>york</th>\n",
       "      <th>young</th>\n",
       "    </tr>\n",
       "  </thead>\n",
       "  <tbody>\n",
       "    <tr>\n",
       "      <th>0</th>\n",
       "      <td>politics</td>\n",
       "      <td>0</td>\n",
       "      <td>0</td>\n",
       "      <td>0</td>\n",
       "      <td>0</td>\n",
       "      <td>0</td>\n",
       "      <td>0</td>\n",
       "      <td>0</td>\n",
       "      <td>1</td>\n",
       "      <td>0</td>\n",
       "      <td>...</td>\n",
       "      <td>0</td>\n",
       "      <td>0</td>\n",
       "      <td>0</td>\n",
       "      <td>0</td>\n",
       "      <td>0</td>\n",
       "      <td>0</td>\n",
       "      <td>0</td>\n",
       "      <td>0</td>\n",
       "      <td>0</td>\n",
       "      <td>0</td>\n",
       "    </tr>\n",
       "    <tr>\n",
       "      <th>1</th>\n",
       "      <td>politics</td>\n",
       "      <td>0</td>\n",
       "      <td>0</td>\n",
       "      <td>0</td>\n",
       "      <td>0</td>\n",
       "      <td>0</td>\n",
       "      <td>0</td>\n",
       "      <td>0</td>\n",
       "      <td>0</td>\n",
       "      <td>0</td>\n",
       "      <td>...</td>\n",
       "      <td>0</td>\n",
       "      <td>0</td>\n",
       "      <td>0</td>\n",
       "      <td>0</td>\n",
       "      <td>0</td>\n",
       "      <td>0</td>\n",
       "      <td>0</td>\n",
       "      <td>1</td>\n",
       "      <td>0</td>\n",
       "      <td>0</td>\n",
       "    </tr>\n",
       "    <tr>\n",
       "      <th>2</th>\n",
       "      <td>politics</td>\n",
       "      <td>0</td>\n",
       "      <td>0</td>\n",
       "      <td>0</td>\n",
       "      <td>0</td>\n",
       "      <td>0</td>\n",
       "      <td>0</td>\n",
       "      <td>0</td>\n",
       "      <td>0</td>\n",
       "      <td>0</td>\n",
       "      <td>...</td>\n",
       "      <td>0</td>\n",
       "      <td>0</td>\n",
       "      <td>0</td>\n",
       "      <td>0</td>\n",
       "      <td>0</td>\n",
       "      <td>0</td>\n",
       "      <td>0</td>\n",
       "      <td>0</td>\n",
       "      <td>0</td>\n",
       "      <td>0</td>\n",
       "    </tr>\n",
       "    <tr>\n",
       "      <th>3</th>\n",
       "      <td>politics</td>\n",
       "      <td>0</td>\n",
       "      <td>0</td>\n",
       "      <td>0</td>\n",
       "      <td>0</td>\n",
       "      <td>0</td>\n",
       "      <td>0</td>\n",
       "      <td>0</td>\n",
       "      <td>0</td>\n",
       "      <td>0</td>\n",
       "      <td>...</td>\n",
       "      <td>0</td>\n",
       "      <td>0</td>\n",
       "      <td>0</td>\n",
       "      <td>0</td>\n",
       "      <td>0</td>\n",
       "      <td>0</td>\n",
       "      <td>0</td>\n",
       "      <td>0</td>\n",
       "      <td>0</td>\n",
       "      <td>0</td>\n",
       "    </tr>\n",
       "    <tr>\n",
       "      <th>4</th>\n",
       "      <td>politics</td>\n",
       "      <td>0</td>\n",
       "      <td>0</td>\n",
       "      <td>0</td>\n",
       "      <td>0</td>\n",
       "      <td>0</td>\n",
       "      <td>0</td>\n",
       "      <td>0</td>\n",
       "      <td>0</td>\n",
       "      <td>0</td>\n",
       "      <td>...</td>\n",
       "      <td>0</td>\n",
       "      <td>0</td>\n",
       "      <td>0</td>\n",
       "      <td>0</td>\n",
       "      <td>0</td>\n",
       "      <td>0</td>\n",
       "      <td>0</td>\n",
       "      <td>0</td>\n",
       "      <td>0</td>\n",
       "      <td>0</td>\n",
       "    </tr>\n",
       "  </tbody>\n",
       "</table>\n",
       "<p>5 rows × 301 columns</p>\n",
       "</div>"
      ],
      "text/plain": [
       "      LABEL  according  agency  ahead  alabama  amazon  america  american  \\\n",
       "0  politics          0       0      0        0       0        0         0   \n",
       "1  politics          0       0      0        0       0        0         0   \n",
       "2  politics          0       0      0        0       0        0         0   \n",
       "3  politics          0       0      0        0       0        0         0   \n",
       "4  politics          0       0      0        0       0        0         0   \n",
       "\n",
       "   announced  appeared  ...  wolverines  women  work  working  world  wrote  \\\n",
       "0          1         0  ...           0      0     0        0      0      0   \n",
       "1          0         0  ...           0      0     0        0      0      0   \n",
       "2          0         0  ...           0      0     0        0      0      0   \n",
       "3          0         0  ...           0      0     0        0      0      0   \n",
       "4          0         0  ...           0      0     0        0      0      0   \n",
       "\n",
       "   year  years  york  young  \n",
       "0     0      0     0      0  \n",
       "1     0      1     0      0  \n",
       "2     0      0     0      0  \n",
       "3     0      0     0      0  \n",
       "4     0      0     0      0  \n",
       "\n",
       "[5 rows x 301 columns]"
      ]
     },
     "execution_count": 3,
     "metadata": {},
     "output_type": "execute_result"
    }
   ],
   "source": [
    "print(\"Looking at the first five rows : \")\n",
    "df.head()"
   ]
  },
  {
   "cell_type": "code",
   "execution_count": 4,
   "id": "7d2d5760",
   "metadata": {},
   "outputs": [
    {
     "name": "stdout",
     "output_type": "stream",
     "text": [
      " data set dimensions :  (1493, 301)\n"
     ]
    }
   ],
   "source": [
    "print(\" data set dimensions : \", df.shape)"
   ]
  },
  {
   "cell_type": "code",
   "execution_count": 5,
   "id": "56857132",
   "metadata": {},
   "outputs": [],
   "source": [
    "X = df.drop('LABEL', axis=1).values\n",
    "y = df['LABEL'].values"
   ]
  },
  {
   "cell_type": "code",
   "execution_count": 6,
   "id": "d3479611",
   "metadata": {},
   "outputs": [
    {
     "data": {
      "text/plain": [
       "array([[0, 0, 0, ..., 0, 0, 0],\n",
       "       [0, 0, 0, ..., 1, 0, 0],\n",
       "       [0, 0, 0, ..., 0, 0, 0],\n",
       "       ...,\n",
       "       [0, 0, 0, ..., 0, 0, 0],\n",
       "       [0, 0, 0, ..., 0, 0, 0],\n",
       "       [0, 0, 0, ..., 0, 0, 0]])"
      ]
     },
     "execution_count": 6,
     "metadata": {},
     "output_type": "execute_result"
    }
   ],
   "source": [
    "X"
   ]
  },
  {
   "cell_type": "code",
   "execution_count": 7,
   "id": "2142fd0c",
   "metadata": {},
   "outputs": [
    {
     "data": {
      "text/plain": [
       "array(['politics', 'politics', 'politics', ..., 'science', 'science',\n",
       "       'science'], dtype=object)"
      ]
     },
     "execution_count": 7,
     "metadata": {},
     "output_type": "execute_result"
    }
   ],
   "source": [
    "y"
   ]
  },
  {
   "cell_type": "code",
   "execution_count": 8,
   "id": "af5ac407",
   "metadata": {},
   "outputs": [],
   "source": [
    "label_encoder = LabelEncoder()\n",
    "y_encoded = label_encoder.fit_transform(y)"
   ]
  },
  {
   "cell_type": "code",
   "execution_count": 9,
   "id": "38027fcf",
   "metadata": {},
   "outputs": [
    {
     "name": "stdout",
     "output_type": "stream",
     "text": [
      "Looking at the target label values before and after encoding\n",
      "\n",
      "\n",
      "['politics' 'politics' 'politics' ... 'science' 'science' 'science'] [1 1 1 ... 2 2 2]\n"
     ]
    }
   ],
   "source": [
    "print(\"Looking at the target label values before and after encoding\")\n",
    "print(\"\\n\")\n",
    "print(y, y_encoded)"
   ]
  },
  {
   "cell_type": "code",
   "execution_count": 10,
   "id": "ba441892",
   "metadata": {},
   "outputs": [],
   "source": [
    "X_train, X_test, y_train, y_test = train_test_split(X, y_encoded, test_size=0.25)"
   ]
  },
  {
   "cell_type": "code",
   "execution_count": 11,
   "id": "11703c92",
   "metadata": {},
   "outputs": [
    {
     "name": "stdout",
     "output_type": "stream",
     "text": [
      "Dimensions of training data set for columns and target label is :  (1119, 300) (1119,)\n"
     ]
    }
   ],
   "source": [
    "print(\"Dimensions of training data set for columns and target label is : \", X_train.shape, y_train.shape)"
   ]
  },
  {
   "cell_type": "code",
   "execution_count": 12,
   "id": "5e911b52",
   "metadata": {},
   "outputs": [
    {
     "name": "stdout",
     "output_type": "stream",
     "text": [
      "Dimensions of testing data set for columns and target label is :  (374, 300) (374,)\n"
     ]
    }
   ],
   "source": [
    "print(\"Dimensions of testing data set for columns and target label is : \", X_test.shape, y_test.shape)"
   ]
  },
  {
   "cell_type": "code",
   "execution_count": null,
   "id": "e61f48fa",
   "metadata": {},
   "outputs": [],
   "source": []
  },
  {
   "cell_type": "markdown",
   "id": "9f145a50",
   "metadata": {},
   "source": [
    "## ANN model"
   ]
  },
  {
   "cell_type": "code",
   "execution_count": 14,
   "id": "31952da4",
   "metadata": {},
   "outputs": [],
   "source": [
    "model = Sequential()\n",
    "model.add(Dense(128, activation='relu', input_shape=(X_train.shape[1],)))\n",
    "model.add(Dense(64, activation='relu'))\n",
    "model.add(Dense(32, activation='relu'))\n",
    "model.add(Dense(3, activation='softmax'))  \n",
    "model.compile(optimizer='adam', loss='sparse_categorical_crossentropy', metrics=['accuracy'])"
   ]
  },
  {
   "cell_type": "code",
   "execution_count": 15,
   "id": "b4fedc03",
   "metadata": {},
   "outputs": [
    {
     "name": "stdout",
     "output_type": "stream",
     "text": [
      "Model: \"sequential\"\n",
      "_________________________________________________________________\n",
      " Layer (type)                Output Shape              Param #   \n",
      "=================================================================\n",
      " dense (Dense)               (None, 128)               38528     \n",
      "                                                                 \n",
      " dense_1 (Dense)             (None, 64)                8256      \n",
      "                                                                 \n",
      " dense_2 (Dense)             (None, 32)                2080      \n",
      "                                                                 \n",
      " dense_3 (Dense)             (None, 3)                 99        \n",
      "                                                                 \n",
      "=================================================================\n",
      "Total params: 48963 (191.26 KB)\n",
      "Trainable params: 48963 (191.26 KB)\n",
      "Non-trainable params: 0 (0.00 Byte)\n",
      "_________________________________________________________________\n"
     ]
    }
   ],
   "source": [
    "model.summary()"
   ]
  },
  {
   "cell_type": "code",
   "execution_count": 16,
   "id": "e973f17a",
   "metadata": {},
   "outputs": [
    {
     "name": "stdout",
     "output_type": "stream",
     "text": [
      "Epoch 1/10\n",
      "35/35 [==============================] - 0s 554us/step - loss: 1.0179 - accuracy: 0.4745\n",
      "Epoch 2/10\n",
      "35/35 [==============================] - 0s 429us/step - loss: 0.7883 - accuracy: 0.7051\n",
      "Epoch 3/10\n",
      "35/35 [==============================] - 0s 465us/step - loss: 0.5389 - accuracy: 0.8195\n",
      "Epoch 4/10\n",
      "35/35 [==============================] - 0s 502us/step - loss: 0.3859 - accuracy: 0.8534\n",
      "Epoch 5/10\n",
      "35/35 [==============================] - 0s 473us/step - loss: 0.3007 - accuracy: 0.8856\n",
      "Epoch 6/10\n",
      "35/35 [==============================] - 0s 446us/step - loss: 0.2504 - accuracy: 0.9053\n",
      "Epoch 7/10\n",
      "35/35 [==============================] - 0s 460us/step - loss: 0.1964 - accuracy: 0.9214\n",
      "Epoch 8/10\n",
      "35/35 [==============================] - 0s 504us/step - loss: 0.1678 - accuracy: 0.9294\n",
      "Epoch 9/10\n",
      "35/35 [==============================] - 0s 481us/step - loss: 0.1519 - accuracy: 0.9276\n",
      "Epoch 10/10\n",
      "35/35 [==============================] - 0s 480us/step - loss: 0.1350 - accuracy: 0.9419\n"
     ]
    },
    {
     "data": {
      "text/plain": [
       "<keras.src.callbacks.History at 0x15f828e10>"
      ]
     },
     "execution_count": 16,
     "metadata": {},
     "output_type": "execute_result"
    }
   ],
   "source": [
    "model.fit(X_train, y_train, epochs=10)"
   ]
  },
  {
   "cell_type": "code",
   "execution_count": 17,
   "id": "9c22f2f4",
   "metadata": {},
   "outputs": [
    {
     "name": "stdout",
     "output_type": "stream",
     "text": [
      "12/12 [==============================] - 0s 453us/step - loss: 0.9945 - accuracy: 0.7273\n"
     ]
    },
    {
     "data": {
      "text/plain": [
       "[0.9944659471511841, 0.7272727489471436]"
      ]
     },
     "execution_count": 17,
     "metadata": {},
     "output_type": "execute_result"
    }
   ],
   "source": [
    "model.evaluate(X_test, y_test)"
   ]
  },
  {
   "cell_type": "code",
   "execution_count": 18,
   "id": "ae52351d",
   "metadata": {},
   "outputs": [
    {
     "name": "stdout",
     "output_type": "stream",
     "text": [
      "12/12 [==============================] - 0s 785us/step - loss: 0.9945 - accuracy: 0.7273\n",
      "Accuracy on testing data using ANN model is :  0.7272727489471436\n"
     ]
    }
   ],
   "source": [
    "print(\"Accuracy on testing data using ANN model is : \", model.evaluate(X_test, y_test)[1])"
   ]
  },
  {
   "cell_type": "code",
   "execution_count": 19,
   "id": "69f9f611",
   "metadata": {},
   "outputs": [],
   "source": [
    "from sklearn.metrics import confusion_matrix"
   ]
  },
  {
   "cell_type": "code",
   "execution_count": 21,
   "id": "cfea91d7",
   "metadata": {},
   "outputs": [
    {
     "name": "stdout",
     "output_type": "stream",
     "text": [
      "12/12 [==============================] - 0s 649us/step\n"
     ]
    },
    {
     "data": {
      "image/png": "[encoded data removed]",
      "text/plain": [
       "<Figure size 640x480 with 2 Axes>"
      ]
     },
     "metadata": {},
     "output_type": "display_data"
    }
   ],
   "source": [
    "predictions = model.predict(X_test)\n",
    "predicted_classes = np.argmax(predictions, axis=1)\n",
    "\n",
    "cm = confusion_matrix(y_test, predicted_classes)\n",
    "\n",
    "sns.heatmap(cm, annot=True, fmt='d', cmap='Blues')\n",
    "plt.title('Confusion Matrix for ANN')\n",
    "plt.xlabel('Actual Labels')\n",
    "plt.ylabel('Predicted Labels')\n",
    "\n",
    "plt.show()"
   ]
  },
  {
   "cell_type": "code",
   "execution_count": null,
   "id": "de9590c7",
   "metadata": {},
   "outputs": [],
   "source": []
  },
  {
   "cell_type": "markdown",
   "id": "04306c47",
   "metadata": {},
   "source": [
    "## CNN model"
   ]
  },
  {
   "cell_type": "code",
   "execution_count": 23,
   "id": "a298c68e",
   "metadata": {},
   "outputs": [],
   "source": [
    "model = Sequential()\n",
    "model.add(Conv1D(filters=128, kernel_size=3, activation='relu', input_shape=(X_train.shape[1], 1)))\n",
    "model.add(MaxPooling1D(pool_size=2))\n",
    "model.add(Conv1D(filters=64, kernel_size=3, activation='relu'))\n",
    "model.add(MaxPooling1D(pool_size=2))\n",
    "model.add(Flatten())\n",
    "model.add(Dense(32, activation='relu'))\n",
    "model.add(Dense(3, activation='softmax')) \n",
    "model.compile(optimizer='adam', loss='sparse_categorical_crossentropy', metrics=['accuracy'])"
   ]
  },
  {
   "cell_type": "code",
   "execution_count": 24,
   "id": "39ac7fae",
   "metadata": {},
   "outputs": [
    {
     "name": "stdout",
     "output_type": "stream",
     "text": [
      "Model: \"sequential_1\"\n",
      "_________________________________________________________________\n",
      " Layer (type)                Output Shape              Param #   \n",
      "=================================================================\n",
      " conv1d (Conv1D)             (None, 298, 128)          512       \n",
      "                                                                 \n",
      " max_pooling1d (MaxPooling1  (None, 149, 128)          0         \n",
      " D)                                                              \n",
      "                                                                 \n",
      " conv1d_1 (Conv1D)           (None, 147, 64)           24640     \n",
      "                                                                 \n",
      " max_pooling1d_1 (MaxPoolin  (None, 73, 64)            0         \n",
      " g1D)                                                            \n",
      "                                                                 \n",
      " flatten (Flatten)           (None, 4672)              0         \n",
      "                                                                 \n",
      " dense_4 (Dense)             (None, 32)                149536    \n",
      "                                                                 \n",
      " dense_5 (Dense)             (None, 3)                 99        \n",
      "                                                                 \n",
      "=================================================================\n",
      "Total params: 174787 (682.76 KB)\n",
      "Trainable params: 174787 (682.76 KB)\n",
      "Non-trainable params: 0 (0.00 Byte)\n",
      "_________________________________________________________________\n"
     ]
    }
   ],
   "source": [
    "model.summary()"
   ]
  },
  {
   "cell_type": "code",
   "execution_count": 25,
   "id": "fff41508",
   "metadata": {},
   "outputs": [
    {
     "name": "stdout",
     "output_type": "stream",
     "text": [
      "Epoch 1/10\n",
      "35/35 [==============================] - 0s 6ms/step - loss: 0.9185 - accuracy: 0.5532\n",
      "Epoch 2/10\n",
      "35/35 [==============================] - 0s 6ms/step - loss: 0.6721 - accuracy: 0.7087\n",
      "Epoch 3/10\n",
      "35/35 [==============================] - 0s 6ms/step - loss: 0.5487 - accuracy: 0.7739\n",
      "Epoch 4/10\n",
      "35/35 [==============================] - 0s 6ms/step - loss: 0.4789 - accuracy: 0.8070\n",
      "Epoch 5/10\n",
      "35/35 [==============================] - 0s 6ms/step - loss: 0.4150 - accuracy: 0.8320\n",
      "Epoch 6/10\n",
      "35/35 [==============================] - 0s 6ms/step - loss: 0.3665 - accuracy: 0.8517\n",
      "Epoch 7/10\n",
      "35/35 [==============================] - 0s 6ms/step - loss: 0.3083 - accuracy: 0.8704\n",
      "Epoch 8/10\n",
      "35/35 [==============================] - 0s 6ms/step - loss: 0.2667 - accuracy: 0.8874\n",
      "Epoch 9/10\n",
      "35/35 [==============================] - 0s 6ms/step - loss: 0.2215 - accuracy: 0.9035\n",
      "Epoch 10/10\n",
      "35/35 [==============================] - 0s 6ms/step - loss: 0.1947 - accuracy: 0.9142\n"
     ]
    },
    {
     "data": {
      "text/plain": [
       "<keras.src.callbacks.History at 0x15fec5450>"
      ]
     },
     "execution_count": 25,
     "metadata": {},
     "output_type": "execute_result"
    }
   ],
   "source": [
    "model.fit(X_train.reshape(X_train.shape[0], X_train.shape[1], 1), y_train, epochs=10)"
   ]
  },
  {
   "cell_type": "code",
   "execution_count": 26,
   "id": "fb35911c",
   "metadata": {},
   "outputs": [
    {
     "name": "stdout",
     "output_type": "stream",
     "text": [
      "12/12 [==============================] - 0s 2ms/step - loss: 1.0816 - accuracy: 0.7059\n",
      "Accuracy on testing data using CNN model is :  0.7058823704719543\n"
     ]
    }
   ],
   "source": [
    "print(\"Accuracy on testing data using CNN model is : \", model.evaluate(X_test, y_test)[1])"
   ]
  },
  {
   "cell_type": "code",
   "execution_count": 27,
   "id": "e96ed1b7",
   "metadata": {},
   "outputs": [
    {
     "name": "stdout",
     "output_type": "stream",
     "text": [
      "12/12 [==============================] - 0s 2ms/step\n"
     ]
    },
    {
     "data": {
      "image/png": "[encoded data removed]",
      "text/plain": [
       "<Figure size 640x480 with 2 Axes>"
      ]
     },
     "metadata": {},
     "output_type": "display_data"
    }
   ],
   "source": [
    "predictions = model.predict(X_test)\n",
    "predicted_classes = np.argmax(predictions, axis=1)\n",
    "\n",
    "cm = confusion_matrix(y_test, predicted_classes)\n",
    "\n",
    "sns.heatmap(cm, annot=True, fmt='d', cmap='Blues')\n",
    "plt.title('Confusion Matrix for CNN')\n",
    "plt.xlabel('Actual Labels')\n",
    "plt.ylabel('Predicted Labels')\n",
    "\n",
    "plt.show()"
   ]
  },
  {
   "cell_type": "code",
   "execution_count": null,
   "id": "0be345d9",
   "metadata": {},
   "outputs": [],
   "source": []
  },
  {
   "cell_type": "markdown",
   "id": "e567ef91",
   "metadata": {},
   "source": [
    "## LSTM"
   ]
  },
  {
   "cell_type": "code",
   "execution_count": 29,
   "id": "cbea80ba",
   "metadata": {},
   "outputs": [],
   "source": [
    "model = Sequential()\n",
    "model.add(LSTM(128, activation='tanh', input_shape=(X_train.shape[1], 1) ))\n",
    "model.add(Dense(64, activation='relu'))\n",
    "model.add(Dense(3, activation='softmax')) \n",
    "model.compile(optimizer='adam', loss='sparse_categorical_crossentropy', metrics=['accuracy'])"
   ]
  },
  {
   "cell_type": "code",
   "execution_count": 30,
   "id": "77d684d4",
   "metadata": {},
   "outputs": [
    {
     "name": "stdout",
     "output_type": "stream",
     "text": [
      "Model: \"sequential_3\"\n",
      "_________________________________________________________________\n",
      " Layer (type)                Output Shape              Param #   \n",
      "=================================================================\n",
      " lstm_1 (LSTM)               (None, 128)               66560     \n",
      "                                                                 \n",
      " dense_8 (Dense)             (None, 64)                8256      \n",
      "                                                                 \n",
      " dense_9 (Dense)             (None, 3)                 195       \n",
      "                                                                 \n",
      "=================================================================\n",
      "Total params: 75011 (293.01 KB)\n",
      "Trainable params: 75011 (293.01 KB)\n",
      "Non-trainable params: 0 (0.00 Byte)\n",
      "_________________________________________________________________\n"
     ]
    }
   ],
   "source": [
    "model.summary()"
   ]
  },
  {
   "cell_type": "code",
   "execution_count": 31,
   "id": "54e3834e",
   "metadata": {},
   "outputs": [
    {
     "name": "stdout",
     "output_type": "stream",
     "text": [
      "Epoch 1/10\n",
      "35/35 [==============================] - 4s 91ms/step - loss: 1.0965 - accuracy: 0.3566\n",
      "Epoch 2/10\n",
      "35/35 [==============================] - 3s 92ms/step - loss: 1.0903 - accuracy: 0.3673\n",
      "Epoch 3/10\n",
      "35/35 [==============================] - 3s 94ms/step - loss: 1.0579 - accuracy: 0.4692\n",
      "Epoch 4/10\n",
      "35/35 [==============================] - 3s 95ms/step - loss: 1.0422 - accuracy: 0.4853\n",
      "Epoch 5/10\n",
      "35/35 [==============================] - 3s 92ms/step - loss: 1.0327 - accuracy: 0.4718\n",
      "Epoch 6/10\n",
      "35/35 [==============================] - 3s 92ms/step - loss: 1.0306 - accuracy: 0.4817\n",
      "Epoch 7/10\n",
      "35/35 [==============================] - 3s 95ms/step - loss: 1.0269 - accuracy: 0.4817\n",
      "Epoch 8/10\n",
      "35/35 [==============================] - 3s 94ms/step - loss: 1.0140 - accuracy: 0.4915\n",
      "Epoch 9/10\n",
      "35/35 [==============================] - 3s 93ms/step - loss: 1.0338 - accuracy: 0.4665\n",
      "Epoch 10/10\n",
      "35/35 [==============================] - 3s 92ms/step - loss: 1.0065 - accuracy: 0.4861\n"
     ]
    },
    {
     "data": {
      "text/plain": [
       "<keras.src.callbacks.History at 0x16887fe10>"
      ]
     },
     "execution_count": 31,
     "metadata": {},
     "output_type": "execute_result"
    }
   ],
   "source": [
    "model.fit(X_train.reshape(X_train.shape[0], X_train.shape[1], 1), y_train, epochs=10)"
   ]
  },
  {
   "cell_type": "code",
   "execution_count": 32,
   "id": "6f6a5a1c",
   "metadata": {},
   "outputs": [
    {
     "name": "stdout",
     "output_type": "stream",
     "text": [
      "12/12 [==============================] - 1s 34ms/step - loss: 1.0262 - accuracy: 0.4679\n",
      "Accuracy on testing data using LSTM model is :  0.4679144322872162\n"
     ]
    }
   ],
   "source": [
    "print(\"Accuracy on testing data using LSTM model is : \", model.evaluate(X_test, y_test)[1])"
   ]
  },
  {
   "cell_type": "code",
   "execution_count": 33,
   "id": "fe0e2de2",
   "metadata": {},
   "outputs": [
    {
     "name": "stdout",
     "output_type": "stream",
     "text": [
      "12/12 [==============================] - 1s 33ms/step\n"
     ]
    },
    {
     "data": {
      "image/png": "[encoded data removed]",
      "text/plain": [
       "<Figure size 640x480 with 2 Axes>"
      ]
     },
     "metadata": {},
     "output_type": "display_data"
    }
   ],
   "source": [
    "predictions = model.predict(X_test)\n",
    "predicted_classes = np.argmax(predictions, axis=1)\n",
    "\n",
    "cm = confusion_matrix(y_test, predicted_classes)\n",
    "\n",
    "sns.heatmap(cm, annot=True, fmt='d', cmap='Blues')\n",
    "plt.title('Confusion Matrix for LSTM')\n",
    "plt.xlabel('Actual Labels')\n",
    "plt.ylabel('Predicted Labels')\n",
    "\n",
    "plt.show()"
   ]
  },
  {
   "cell_type": "code",
   "execution_count": null,
   "id": "67b1c9f4",
   "metadata": {},
   "outputs": [],
   "source": []
  }
 ],
 "metadata": {
  "kernelspec": {
   "display_name": "Python 3 (ipykernel)",
   "language": "python",
   "name": "python3"
  },
  "language_info": {
   "codemirror_mode": {
    "name": "ipython",
    "version": 3
   },
   "file_extension": ".py",
   "mimetype": "text/x-python",
   "name": "python",
   "nbconvert_exporter": "python",
   "pygments_lexer": "ipython3",
   "version": "3.11.5"
  }
 },
 "nbformat": 4,
 "nbformat_minor": 5
}
